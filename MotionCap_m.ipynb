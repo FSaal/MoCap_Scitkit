{
 "cells": [
  {
   "cell_type": "markdown",
   "metadata": {},
   "source": [
    "# Motion Capture"
   ]
  },
  {
   "cell_type": "code",
   "execution_count": 11,
   "metadata": {},
   "outputs": [],
   "source": [
    "import pandas as pd\n",
    "import numpy as np\n",
    "import matplotlib.pyplot as plt"
   ]
  },
  {
   "cell_type": "code",
   "execution_count": 12,
   "metadata": {},
   "outputs": [],
   "source": [
    "Dataset = pd.HDFStore('pepper_experiments.h5',mode='r')\n",
    "D_keys = Dataset.keys()\n",
    "def Frame(key):\n",
    "    return Dataset.get(D_keys[key])"
   ]
  },
  {
   "cell_type": "code",
   "execution_count": 13,
   "metadata": {},
   "outputs": [],
   "source": [
    "# Sehr naiver Ansatz: Für alle fünf verschiedenen Roboterablaufprogramme sind die Phasen gleich\n",
    "Set1 = pd.concat([Frame(i*4+2) for i in range(15)])\n",
    "Set2 = pd.concat([Frame(i*4+2) for i in range(15,30)])"
   ]
  },
  {
   "cell_type": "code",
   "execution_count": 14,
   "metadata": {},
   "outputs": [],
   "source": [
    "# HumanIDSet1 = 0\n",
    "# RobotIDSet1 = 2\n",
    "# HumanIDSet2 = 5\n",
    "# RobotIDSet2 = 2\n",
    "\n",
    "#Set1.loc[Set1['ID'] == 0, 'ID'] = 0\n",
    "Set2.loc[Set2['ID'] == 5, 'ID'] = 1\n",
    "#Set1.loc[Set1['ID'] == 2, 'ID'] = 2\n",
    "Set2.loc[Set2['ID'] == 2, 'ID'] = 3"
   ]
  },
  {
   "cell_type": "code",
   "execution_count": 17,
   "metadata": {},
   "outputs": [],
   "source": [
    "allData = pd.concat([Set1,Set2])\n",
    "allData = allData.sort_values(by=['timestamp'])"
   ]
  },
  {
   "cell_type": "markdown",
   "metadata": {},
   "source": [
    "Labeln der Phase:\n",
    "- 0 bedeutet Reach\n",
    "- 1 bedeutet Hold\n",
    "- 2 bedeutet Retract"
   ]
  },
  {
   "cell_type": "code",
   "execution_count": 18,
   "metadata": {},
   "outputs": [],
   "source": [
    "allData['phase'] = 1\n",
    "allData.loc[allData['timestamp'] < 4.5, 'phase'] = 0\n",
    "allData.loc[allData['timestamp'] > 7.6, 'phase'] = 2\n",
    "allData\n",
    "# Spaltenvektor der Phase extrahieren (wird später benötigt)\n",
    "phasedata = allData.pivot_table(index='timestamp')\n",
    "phasevec = phasedata[['phase']]"
   ]
  },
  {
   "cell_type": "code",
   "execution_count": null,
   "metadata": {},
   "outputs": [],
   "source": [
    "allData_table2 = allData.pivot_table(index='timestamp', columns='JI', values=['X','Y','Z','RX','RY','RZ'])\n",
    "allData_table2_joint0_RX = allData_table2.iloc[:,0]\n",
    "allData_table2_joint0_RY = allData_table2.iloc[:,(0+22)]\n",
    "allData_table2_joint0_RZ = allData_table2.iloc[:,(0+2*22)]\n",
    "allData_table2_joint0_X = allData_table2.iloc[:,(0+3*22)]\n",
    "allData_table2_joint0_Y = allData_table2.iloc[:,(0+4*22)]\n",
    "allData_table2_joint0_Z = allData_table2.iloc[:,(0+5*22)]\n",
    "c = pd.concat([allData_table2_joint0_X,allData_table2_joint0_Y,allData_table2_joint0_Z,allData_table2_joint0_RX,allData_table2_joint0_RY,allData_table2_joint0_RZ],axis=1)\n",
    "for i in range(1,22):\n",
    "    allData_table2_jointi_RX = allData_table2.iloc[:,i]\n",
    "    allData_table2_jointi_RY = allData_table2.iloc[:,(i+22)]\n",
    "    allData_table2_jointi_RZ = allData_table2.iloc[:,(i+2*22)]\n",
    "    allData_table2_jointi_X = allData_table2.iloc[:,(i+3*22)]\n",
    "    allData_table2_jointi_Y = allData_table2.iloc[:,(i+4*22)]\n",
    "    allData_table2_jointi_Z = allData_table2.iloc[:,(i+5*22)]\n",
    "    c = pd.concat([c,allData_table2_jointi_X,allData_table2_jointi_Y,allData_table2_jointi_Z,allData_table2_jointi_RX,allData_table2_jointi_RY,allData_table2_jointi_RZ],axis=1)\n",
    "c['phase'] = phasevec # Phasenvec wieder als Spalte hinzufügen\n",
    "c.head()"
   ]
  }
 ],
 "metadata": {
  "kernelspec": {
   "display_name": "Python 3",
   "language": "python",
   "name": "python3"
  },
  "language_info": {
   "codemirror_mode": {
    "name": "ipython",
    "version": 3
   },
   "file_extension": ".py",
   "mimetype": "text/x-python",
   "name": "python",
   "nbconvert_exporter": "python",
   "pygments_lexer": "ipython3",
   "version": "3.6.3"
  }
 },
 "nbformat": 4,
 "nbformat_minor": 2
}
